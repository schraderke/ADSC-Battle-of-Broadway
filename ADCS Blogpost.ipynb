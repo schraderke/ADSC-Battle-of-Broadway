{
 "cells": [
  {
   "cell_type": "markdown",
   "metadata": {},
   "source": [
    "#Blogpost\n",
    "\n",
    "Come visit the beautiful New York City Theatre District! With more than 30 theatres, there is a production for every taste!\n",
    "\n",
    "After you are dazzled on the Great White Way, enjoy an elegant dinner at a posh resturant before relaxing in your luxorious hotel!"
   ]
  }
 ],
 "metadata": {
  "kernelspec": {
   "display_name": "Python",
   "language": "python",
   "name": "conda-env-python-py"
  },
  "language_info": {
   "codemirror_mode": {
    "name": "ipython",
    "version": 3
   },
   "file_extension": ".py",
   "mimetype": "text/x-python",
   "name": "python",
   "nbconvert_exporter": "python",
   "pygments_lexer": "ipython3",
   "version": "3.6.10"
  }
 },
 "nbformat": 4,
 "nbformat_minor": 4
}
