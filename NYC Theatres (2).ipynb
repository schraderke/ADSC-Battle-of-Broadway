{
 "cells": [
  {
   "cell_type": "code",
   "execution_count": 1,
   "metadata": {},
   "outputs": [
    {
     "name": "stdout",
     "output_type": "stream",
     "text": [
      "Libraries imported.\n"
     ]
    }
   ],
   "source": [
    "import numpy as np # library to handle data in a vectorized manner\n",
    "\n",
    "import pandas as pd # library for data analsysis\n",
    "pd.set_option('display.max_columns', None)\n",
    "pd.set_option('display.max_rows', None)\n",
    "\n",
    "import json # library to handle JSON files\n",
    "\n",
    "from geopy.geocoders import Nominatim # convert an address into latitude and longitude values\n",
    "\n",
    "import requests # library to handle requests\n",
    "from pandas.io.json import json_normalize # tranform JSON file into a pandas dataframe\n",
    "\n",
    "# Matplotlib and associated plotting modules\n",
    "import matplotlib.cm as cm\n",
    "import matplotlib.colors as colors\n",
    "\n",
    "# import k-means from clustering stage\n",
    "from sklearn.cluster import KMeans\n",
    "\n",
    "import folium # map rendering library\n",
    "\n",
    "print('Libraries imported.')"
   ]
  },
  {
   "cell_type": "code",
   "execution_count": 2,
   "metadata": {},
   "outputs": [
    {
     "name": "stdout",
     "output_type": "stream",
     "text": [
      "                            Name               Address      City State\n",
      "0          Al Hirschfeld Theatre  302 West 45th Street  New York    NY\n",
      "1             Ambassador Theatre  219 West 49th Street  New York    NY\n",
      "2      American Airlines Theatre  227 West 42nd Street  New York    NY\n",
      "3          August Wilson Theatre  245 West 52nd Street  New York    NY\n",
      "4                Belasco Theatre  111 West 44th Street  New York    NY\n",
      "5      Bernard B. Jacobs Theatre  242 West 45th Street  New York    NY\n",
      "6                  Booth Theatre  222 West 45th Street  New York    NY\n",
      "7               Broadway Theatre         1681 Broadway  New York    NY\n",
      "8        Brooks Atkinson Theatre  256 West 47th Street  New York    NY\n",
      "9   Circle in the Square Theatre         1633 Broadway  New York    NY\n",
      "10                  Cort Theatre  138 West 48th Street  New York    NY\n",
      "11       Ethel Barrymore Theatre  243 West 47th Street  New York    NY\n",
      "12        Eugene O'Neill Theatre  230 West 49th Street  New York    NY\n",
      "13       George Gershwin Theatre  222 West 51st Street  New York    NY\n",
      "14     Gerald Schoenfeld Theatre  236 West 45th Street  New York    NY\n",
      "15                 Hayes Theater  240 West 44th Street  New York    NY\n",
      "16                Hudson Theatre  145 West 44th Street  New York    NY\n",
      "17              Imperial Theatre  249 West 45th Street  New York    NY\n",
      "18           John Golden Theatre  252 West 45th Street  New York    NY\n",
      "19         Lunt-Fontanne Theatre  205 West 46th Street  New York    NY\n",
      "20                Lyceum Theatre  149 West 45th Street  New York    NY\n",
      "21                 Lyric Theatre  213 West 42nd Street  New York    NY\n",
      "22              Majestic Theatre  245 West 44th Street  New York    NY\n",
      "23               Marquis Theatre         1535 Broadway  New York    NY\n",
      "24              Minskoff Theatre  200 West 45th Street  New York    NY\n",
      "25             Music Box Theatre  239 West 45th Street  New York    NY\n",
      "26           Nederlander Theatre  208 West 41st Street  New York    NY\n",
      "27            Neil Simon Theatre  250 West 52nd Street  New York    NY\n",
      "28         New Amsterdam Theatre  214 West 42nd Street  New York    NY\n",
      "29                Palace Theatre         1564 Broadway  New York    NY\n",
      "30       Richard Rodgers Theatre  226 West 46th Street  New York    NY\n",
      "31    Samuel J. Friedman Theatre  261 West 47th Street  New York    NY\n",
      "32               Shubert Theatre  225 West 44th Street  New York    NY\n",
      "33             St. James Theatre  246 West 44th Street  New York    NY\n",
      "34      Stephen Sondheim Theatre  124 West 43rd Street  New York    NY\n",
      "35             Studio 54 Theatre  254 West 54th Street  New York    NY\n",
      "36       Vivian Beaumont Theatre  150 West 65th Street  New York    NY\n",
      "37           Walter Kerr Theatre  219 West 48th Street  New York    NY\n",
      "38         Winter Garden Theatre         1634 Broadway  New York    NY\n"
     ]
    }
   ],
   "source": [
    "nyct = pd.read_csv (r'nyct.csv')\n",
    "print (nyct)"
   ]
  },
  {
   "cell_type": "code",
   "execution_count": 3,
   "metadata": {},
   "outputs": [
    {
     "name": "stdout",
     "output_type": "stream",
     "text": [
      "                            Name               Address      City State  \\\n",
      "0          Al Hirschfeld Theatre  302 West 45th Street  New York    NY   \n",
      "1             Ambassador Theatre  219 West 49th Street  New York    NY   \n",
      "2      American Airlines Theatre  227 West 42nd Street  New York    NY   \n",
      "3          August Wilson Theatre  245 West 52nd Street  New York    NY   \n",
      "4                Belasco Theatre  111 West 44th Street  New York    NY   \n",
      "5      Bernard B. Jacobs Theatre  242 West 45th Street  New York    NY   \n",
      "6                  Booth Theatre  222 West 45th Street  New York    NY   \n",
      "7               Broadway Theatre         1681 Broadway  New York    NY   \n",
      "8        Brooks Atkinson Theatre  256 West 47th Street  New York    NY   \n",
      "9   Circle in the Square Theatre         1633 Broadway  New York    NY   \n",
      "10                  Cort Theatre  138 West 48th Street  New York    NY   \n",
      "11       Ethel Barrymore Theatre  243 West 47th Street  New York    NY   \n",
      "12        Eugene O'Neill Theatre  230 West 49th Street  New York    NY   \n",
      "13       George Gershwin Theatre  222 West 51st Street  New York    NY   \n",
      "14     Gerald Schoenfeld Theatre  236 West 45th Street  New York    NY   \n",
      "15                 Hayes Theater  240 West 44th Street  New York    NY   \n",
      "16                Hudson Theatre  145 West 44th Street  New York    NY   \n",
      "17              Imperial Theatre  249 West 45th Street  New York    NY   \n",
      "18           John Golden Theatre  252 West 45th Street  New York    NY   \n",
      "19         Lunt-Fontanne Theatre  205 West 46th Street  New York    NY   \n",
      "20                Lyceum Theatre  149 West 45th Street  New York    NY   \n",
      "21                 Lyric Theatre  213 West 42nd Street  New York    NY   \n",
      "22              Majestic Theatre  245 West 44th Street  New York    NY   \n",
      "23               Marquis Theatre         1535 Broadway  New York    NY   \n",
      "24              Minskoff Theatre  200 West 45th Street  New York    NY   \n",
      "25             Music Box Theatre  239 West 45th Street  New York    NY   \n",
      "26           Nederlander Theatre  208 West 41st Street  New York    NY   \n",
      "27            Neil Simon Theatre  250 West 52nd Street  New York    NY   \n",
      "28         New Amsterdam Theatre  214 West 42nd Street  New York    NY   \n",
      "29                Palace Theatre         1564 Broadway  New York    NY   \n",
      "30       Richard Rodgers Theatre  226 West 46th Street  New York    NY   \n",
      "31    Samuel J. Friedman Theatre  261 West 47th Street  New York    NY   \n",
      "32               Shubert Theatre  225 West 44th Street  New York    NY   \n",
      "33             St. James Theatre  246 West 44th Street  New York    NY   \n",
      "34      Stephen Sondheim Theatre  124 West 43rd Street  New York    NY   \n",
      "35             Studio 54 Theatre  254 West 54th Street  New York    NY   \n",
      "36       Vivian Beaumont Theatre  150 West 65th Street  New York    NY   \n",
      "37           Walter Kerr Theatre  219 West 48th Street  New York    NY   \n",
      "38         Winter Garden Theatre         1634 Broadway  New York    NY   \n",
      "\n",
      "                         LongAddress  \n",
      "0   302 West 45th Street New York NY  \n",
      "1   219 West 49th Street New York NY  \n",
      "2   227 West 42nd Street New York NY  \n",
      "3   245 West 52nd Street New York NY  \n",
      "4   111 West 44th Street New York NY  \n",
      "5   242 West 45th Street New York NY  \n",
      "6   222 West 45th Street New York NY  \n",
      "7          1681 Broadway New York NY  \n",
      "8   256 West 47th Street New York NY  \n",
      "9          1633 Broadway New York NY  \n",
      "10  138 West 48th Street New York NY  \n",
      "11  243 West 47th Street New York NY  \n",
      "12  230 West 49th Street New York NY  \n",
      "13  222 West 51st Street New York NY  \n",
      "14  236 West 45th Street New York NY  \n",
      "15  240 West 44th Street New York NY  \n",
      "16  145 West 44th Street New York NY  \n",
      "17  249 West 45th Street New York NY  \n",
      "18  252 West 45th Street New York NY  \n",
      "19  205 West 46th Street New York NY  \n",
      "20  149 West 45th Street New York NY  \n",
      "21  213 West 42nd Street New York NY  \n",
      "22  245 West 44th Street New York NY  \n",
      "23         1535 Broadway New York NY  \n",
      "24  200 West 45th Street New York NY  \n",
      "25  239 West 45th Street New York NY  \n",
      "26  208 West 41st Street New York NY  \n",
      "27  250 West 52nd Street New York NY  \n",
      "28  214 West 42nd Street New York NY  \n",
      "29         1564 Broadway New York NY  \n",
      "30  226 West 46th Street New York NY  \n",
      "31  261 West 47th Street New York NY  \n",
      "32  225 West 44th Street New York NY  \n",
      "33  246 West 44th Street New York NY  \n",
      "34  124 West 43rd Street New York NY  \n",
      "35  254 West 54th Street New York NY  \n",
      "36  150 West 65th Street New York NY  \n",
      "37  219 West 48th Street New York NY  \n",
      "38         1634 Broadway New York NY  \n"
     ]
    }
   ],
   "source": [
    "nyct['LongAddress'] = nyct[['Address', 'City', 'State']].agg(' '.join, axis=1)\n",
    "print(nyct)"
   ]
  },
  {
   "cell_type": "code",
   "execution_count": 4,
   "metadata": {},
   "outputs": [],
   "source": [
    "from geopy.geocoders import Nominatim\n",
    "geolocator = Nominatim(user_agent=\"specify_your_app_name_here\")\n",
    "\n",
    "from geopy.extra.rate_limiter import RateLimiter\n",
    "geocode = RateLimiter(geolocator.geocode, min_delay_seconds=1)\n",
    "\n",
    "# 2- - create location column\n",
    "nyct['Geo'] = nyct['LongAddress'].apply(geocode)\n",
    "\n",
    "# 3 - create longitude, laatitude and altitude from location column (returns tuple)\n",
    "nyct['LatLong'] = nyct['Geo'].apply(lambda loc: tuple(loc.point) if loc else None)\n",
    "\n",
    "# 4 - split point column into latitude, longitude and altitude columns\n",
    "nyct[['latitude', 'longitude', 'altitude']] = pd.DataFrame(nyct['LatLong'].tolist(), index=nyct.index)"
   ]
  },
  {
   "cell_type": "code",
   "execution_count": 5,
   "metadata": {},
   "outputs": [
    {
     "name": "stdout",
     "output_type": "stream",
     "text": [
      "                            Name   latitude  longitude\n",
      "0          Al Hirschfeld Theatre  40.759253 -73.989211\n",
      "1             Ambassador Theatre  40.761236 -73.984990\n",
      "2      American Airlines Theatre  40.757156 -73.988119\n",
      "3          August Wilson Theatre  40.763373 -73.984193\n",
      "4                Belasco Theatre  40.756644 -73.983801\n",
      "5      Bernard B. Jacobs Theatre  40.758608 -73.987741\n",
      "6                  Booth Theatre  40.758373 -73.987090\n",
      "7               Broadway Theatre  40.763398 -73.983355\n",
      "8        Brooks Atkinson Theatre  40.759975 -73.986966\n",
      "9   Circle in the Square Theatre  40.762093 -73.984656\n",
      "10                  Cort Theatre  40.759103 -73.983090\n",
      "11       Ethel Barrymore Theatre  40.760122 -73.986135\n",
      "12        Eugene O'Neill Theatre  40.761105 -73.985740\n",
      "13       George Gershwin Theatre  40.762362 -73.985204\n",
      "14     Gerald Schoenfeld Theatre  40.758486 -73.987438\n",
      "15                 Hayes Theater  40.757851 -73.987842\n",
      "16                Hudson Theatre  40.757083 -73.984792\n",
      "17              Imperial Theatre  40.759123 -73.987122\n",
      "18           John Golden Theatre  40.758705 -73.987985\n",
      "19         Lunt-Fontanne Theatre  40.759166 -73.985902\n",
      "20                Lyceum Theatre  40.757869 -73.984501\n",
      "21                 Lyric Theatre  40.756792 -73.987462\n",
      "22              Majestic Theatre  40.758418 -73.988016\n",
      "23               Marquis Theatre  40.758613 -73.986207\n",
      "24              Minskoff Theatre  40.757984 -73.985861\n",
      "25             Music Box Theatre  40.758872 -73.987151\n",
      "26           Nederlander Theatre  40.755484 -73.988302\n",
      "27            Neil Simon Theatre  40.763026 -73.984520\n",
      "28         New Amsterdam Theatre  40.756000 -73.988063\n",
      "29                Palace Theatre  40.758894 -73.984675\n",
      "30       Richard Rodgers Theatre  40.759031 -73.986748\n",
      "31    Samuel J. Friedman Theatre  40.760380 -73.986727\n",
      "32               Shubert Theatre  40.758145 -73.987256\n",
      "33             St. James Theatre  40.757984 -73.988158\n",
      "34      Stephen Sondheim Theatre  40.755896 -73.984933\n",
      "35             Studio 54 Theatre  40.764346 -73.983779\n",
      "36       Vivian Beaumont Theatre  40.773501 -73.984403\n",
      "37           Walter Kerr Theatre  40.760681 -73.985585\n",
      "38         Winter Garden Theatre  40.761686 -73.983505\n"
     ]
    }
   ],
   "source": [
    "nyct2=nyct.drop(columns=['Address', 'City', 'State', 'LongAddress', 'Geo', 'LatLong','altitude'])\n",
    "print(nyct2)"
   ]
  },
  {
   "cell_type": "code",
   "execution_count": 15,
   "metadata": {},
   "outputs": [
    {
     "data": {
      "text/plain": [
       "Name         Winter Garden Theatre\n",
       "latitude                   40.7735\n",
       "longitude                 -73.9831\n",
       "dtype: object"
      ]
     },
     "execution_count": 15,
     "metadata": {},
     "output_type": "execute_result"
    }
   ],
   "source": [
    "nyct2.max()"
   ]
  },
  {
   "cell_type": "code",
   "execution_count": 14,
   "metadata": {},
   "outputs": [
    {
     "data": {
      "text/plain": [
       "Name         Al Hirschfeld Theatre\n",
       "latitude                   40.7555\n",
       "longitude                 -73.9892\n",
       "dtype: object"
      ]
     },
     "execution_count": 14,
     "metadata": {},
     "output_type": "execute_result"
    }
   ],
   "source": [
    "nyct2.min()"
   ]
  },
  {
   "cell_type": "code",
   "execution_count": 20,
   "metadata": {},
   "outputs": [
    {
     "data": {
      "text/html": [
       "<div style=\"width:100%;\"><div style=\"position:relative;width:100%;height:0;padding-bottom:60%;\"><iframe src=\"about:blank\" style=\"position:absolute;width:100%;height:100%;left:0;top:0;border:none !important;\" data-html=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 onload=\"this.contentDocument.open();this.contentDocument.write(atob(this.getAttribute('data-html')));this.contentDocument.close();\" allowfullscreen webkitallowfullscreen mozallowfullscreen></iframe></div></div>"
      ],
      "text/plain": [
       "<folium.folium.Map at 0x7f489222a828>"
      ]
     },
     "execution_count": 20,
     "metadata": {},
     "output_type": "execute_result"
    }
   ],
   "source": [
    "nyctmap2 = folium.Map(location=[40.7590, -73.9845], tiles=\"OpenStreetMap\", zoom_start=15)\n",
    "\n",
    "\n",
    "coordinates = [\n",
    "    [40.764346,-73.983779],\n",
    "    [40.759103,-73.983090],\n",
    "    [40.755484,-73.988302],\n",
    "    [40.759253,-73.989211],\n",
    "    [40.764346,-73.983779]\n",
    "]\n",
    "\n",
    "my_PolyLine=folium.PolyLine(locations=coordinates,weight=5)\n",
    "nyctmap2.add_child(my_PolyLine)\n",
    "\n",
    "#add markers\n",
    "folium.Marker([40.764346,-73.983779], popup='Studio 54 Theatre').add_to(nyctmap2)\n",
    "folium.Marker([40.755484,-73.988302], popup='Nederlander Theatre').add_to(nyctmap2)\n",
    "folium.Marker([40.759103,-73.983090], popup='Cort Theatre').add_to(nyctmap2)\n",
    "folium.Marker([40.759253,-73.989211], popup='Al Hirschfield Theatre').add_to(nyctmap2)\n",
    "\n",
    "nyctmap2"
   ]
  },
  {
   "cell_type": "code",
   "execution_count": 8,
   "metadata": {},
   "outputs": [
    {
     "data": {
      "text/plain": [
       "Name         Winter Garden Theatre\n",
       "latitude                   40.7735\n",
       "longitude                 -73.9831\n",
       "dtype: object"
      ]
     },
     "execution_count": 8,
     "metadata": {},
     "output_type": "execute_result"
    }
   ],
   "source": [
    "nyct2.max()"
   ]
  },
  {
   "cell_type": "code",
   "execution_count": 9,
   "metadata": {},
   "outputs": [
    {
     "data": {
      "text/plain": [
       "Name         Al Hirschfeld Theatre\n",
       "latitude                   40.7555\n",
       "longitude                 -73.9892\n",
       "dtype: object"
      ]
     },
     "execution_count": 9,
     "metadata": {},
     "output_type": "execute_result"
    }
   ],
   "source": [
    "nyct2.min()"
   ]
  },
  {
   "cell_type": "code",
   "execution_count": null,
   "metadata": {},
   "outputs": [],
   "source": []
  }
 ],
 "metadata": {
  "kernelspec": {
   "display_name": "Python",
   "language": "python",
   "name": "conda-env-python-py"
  },
  "language_info": {
   "codemirror_mode": {
    "name": "ipython",
    "version": 3
   },
   "file_extension": ".py",
   "mimetype": "text/x-python",
   "name": "python",
   "nbconvert_exporter": "python",
   "pygments_lexer": "ipython3",
   "version": "3.6.10"
  }
 },
 "nbformat": 4,
 "nbformat_minor": 4
}
