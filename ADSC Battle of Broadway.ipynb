{
 "cells": [
  {
   "cell_type": "markdown",
   "metadata": {},
   "source": [
    "#Introduction/Business Problem\n",
    "\n",
    "Each year, several musical theatre productions begin in cities around the country, with the intention of moving to a Broadway theatre in New York City. These pre-Broadway engagements are a way to test the production and determine if it can sell out a Broadway engagement. Further, shows that have closed in New York City will often open touring productions in other cities. These productions allow the shows’ producing and creative team to bring a successful production to a larger audience. \n",
    "\n",
    "Toronto’s Theatre District has grown into a large district, housing both pre-Broadway engagements and touring productions. When choosing Toronto for either engagement, one much consider the similarities between the theatre districts in Toronto and New York City.  The first consideration is exploring the theatres themselves, to understand if there is a similar space in the two cities to transfer a production. A production developed for a large stage with specialty lighting and sound will need to move to a similar venue. A second consideration is the type of entertainment in the district surrounding the theaters, and a final consideration is the variety of options for travelers to stay in proximity to the district. \n",
    "\n",
    "This analysis will compare Toronto and New York based on these three considerations to determine the feasibility of moving theatrical productions between the two cities. "
   ]
  },
  {
   "cell_type": "markdown",
   "metadata": {},
   "source": [
    "#Data\n",
    "\n",
    "This analysis will utilize the Foursquare Developer API to identify the number and location of each theatre in each city. This data will also be used to identify other entertainment options in the district, such as restaurants, bars, and coffee shops.  It will also be used to identify places for overnight stays in the district. Further, this analysis will use background information about the district scraped from Wikipedia. Finally, to quantify the needs of different shows, data from the Internet Broadway Database will be pulled for several popular productions. \n",
    "\n",
    "Using these data, this analysis will cluster the theatres by type of production that can be housed in each space (small, medium, large; plays, musicals, both). The data on different popular productions will show which theatres are most likely to be utilized and popular among tourists. Once those popular theatres are identified, the surrounding areas will be analyzed to understand hotel and dining options for travelers and sightseers. The outcomes of these analyses should suggest feasibility for moving productions between New York City and Toronto. "
   ]
  }
 ],
 "metadata": {
  "kernelspec": {
   "display_name": "Python",
   "language": "python",
   "name": "conda-env-python-py"
  },
  "language_info": {
   "codemirror_mode": {
    "name": "ipython",
    "version": 3
   },
   "file_extension": ".py",
   "mimetype": "text/x-python",
   "name": "python",
   "nbconvert_exporter": "python",
   "pygments_lexer": "ipython3",
   "version": "3.6.10"
  }
 },
 "nbformat": 4,
 "nbformat_minor": 4
}
