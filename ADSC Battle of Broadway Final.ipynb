{
 "cells": [
  {
   "cell_type": "code",
   "execution_count": null,
   "metadata": {},
   "outputs": [],
   "source": [
    "conda install -c conda-forge geopy "
   ]
  },
  {
   "cell_type": "code",
   "execution_count": null,
   "metadata": {},
   "outputs": [],
   "source": [
    "import numpy as np # library to handle data in a vectorized manner\n",
    "\n",
    "import pandas as pd # library for data analsysis\n",
    "pd.set_option('display.max_columns', None)\n",
    "pd.set_option('display.max_rows', None)\n",
    "\n",
    "from geopy.geocoders import Nominatim # convert an address into latitude and longitude values\n",
    "\n",
    "# Matplotlib and associated plotting modules\n",
    "import matplotlib.cm as cm\n",
    "import matplotlib.colors as colors\n",
    "\n",
    "# import k-means from clustering stage\n",
    "from sklearn.cluster import KMeans\n",
    "\n",
    "import folium # map rendering library\n",
    "\n",
    "print('Libraries imported.')"
   ]
  },
  {
   "cell_type": "markdown",
   "metadata": {},
   "source": [
    "#Introduction\n",
    "\n",
    "Each year, several musical theatre productions begin in cities around the country, with the intention of moving to a Broadway theatre in New York City. These pre-Broadway engagements are a way to test the production and determine if it can sell out a Broadway engagement. Further, shows that have closed in New York City will often open touring productions in other cities. These productions allow the shows’ producing and creative team to bring a successful production to a larger audience. \n",
    "\n",
    "Toronto’s Theatre District has grown into a large district, housing both pre-Broadway engagements and touring productions. When choosing Toronto for either engagement, one much consider the similarities between the theatre districts in Toronto and New York City.  These considerations include the number of theatres, as well as the amenities available for those travelling to the city.\n",
    "\n",
    "##Purpose\n",
    "\n",
    "This analysis will compare Toronto and New York based on these three considerations to determine the feasibility of moving theatrical productions between the two cities. "
   ]
  },
  {
   "cell_type": "markdown",
   "metadata": {},
   "source": [
    "#Data\n",
    "\n",
    "This analysis utilizes a list of theatres in each city, then uses Folium to create a map of each theatre district. Using the Foursquare Developer API, the analysis identifies hotels and restaurants near these districts, and adds those to the map. "
   ]
  },
  {
   "cell_type": "markdown",
   "metadata": {},
   "source": [
    "#Methodology\n",
    "\n",
    "##New York City\n",
    "I created a .csv list of Broadway Theatres from Broadway.com, which included the name and street address of each theatre. I then used Pandas to read that file into a dataframe.  Using Pandas, I appended the City and State columns to the existing data. I then joined the Street Address, City, and State columns into one column titled Long Address.  Using the Long Address and the GeoPy library, I pulled the latitude and longitude for each theatre. Using Folium, I created map of the NYC Theatre District and added an outline. \n",
    "\n",
    "##Toronto\n",
    "I created a .csv list of Broadway Theatres from TorontoOnDemand Theatre Directory, which included the name, street address, and phone number of each theatre. I then used Pandas to read that file into a dataframe.  Using Pandas, I appended the City and Providence columns to the existing data. I then joined the Street Address, City, and Prov columns into one column titled Long Address.  Using the Long Address and the GeoPy library, I pulled the latitude and longitude for each theatre. Using Folium, I created map of the Toronto Theatre District and added an outline. "
   ]
  },
  {
   "cell_type": "markdown",
   "metadata": {},
   "source": [
    "#Results\n",
    "\n",
    "##Theatres\n",
    "\n",
    "There are 39 theatres in New York's Theatre District, and 42 in Toronto's Theatre District. Toronto's district is more widespread than New York's district. "
   ]
  },
  {
   "cell_type": "code",
   "execution_count": null,
   "metadata": {},
   "outputs": [],
   "source": [
    "tortmap = folium.Map(location=[43.6532, -79.3832], tiles=\"OpenStreetMap\", zoom_start=11)\n",
    "\n",
    "\n",
    "coordinates = [\n",
    "    [43.772692,-79.504171],\n",
    "    [43.740158,-79.216718],\n",
    "    [43.638427,-79.382013],\n",
    "    [43.648696,-79.562161],\n",
    "    [43.772692,-79.504171]\n",
    "]\n",
    "\n",
    "my_PolyLine=folium.PolyLine(locations=coordinates,weight=5)\n",
    "tortmap.add_child(my_PolyLine)\n",
    "\n",
    "#add markers\n",
    "folium.Marker([43.638427,-79.382013], popup='Buddies In Bad Times Theatre').add_to(tortmap)\n",
    "folium.Marker([43.772692,-79.504171], popup='Joseph G. Green Studio @ York University').add_to(tortmap)\n",
    "folium.Marker([43.648696,-79.562161], popup='Burnhamthorpe Auditorium').add_to(tortmap)\n",
    "folium.Marker([43.740158,-79.216718], popup='Scarborough Village Theatre').add_to(tortmap)\n",
    "\n",
    "tortmap"
   ]
  },
  {
   "cell_type": "code",
   "execution_count": null,
   "metadata": {},
   "outputs": [],
   "source": [
    "nyctmap2 = folium.Map(location=[40.7590, -73.9845], tiles=\"OpenStreetMap\", zoom_start=16)\n",
    "\n",
    "\n",
    "coordinates = [\n",
    "    [40.764346,-73.983779],\n",
    "    [40.759103,-73.983090],\n",
    "    [40.755484,-73.988302],\n",
    "    [40.759253,-73.989211],\n",
    "    [40.764346,-73.983779]\n",
    "]\n",
    "\n",
    "my_PolyLine=folium.PolyLine(locations=coordinates,weight=5)\n",
    "nyctmap2.add_child(my_PolyLine)\n",
    "\n",
    "#add markers\n",
    "folium.Marker([40.764346,-73.983779], popup='Studio 54 Theatre').add_to(nyctmap2)\n",
    "folium.Marker([40.755484,-73.988302], popup='Nederlander Theatre').add_to(nyctmap2)\n",
    "folium.Marker([40.759103,-73.983090], popup='Cort Theatre').add_to(nyctmap2)\n",
    "folium.Marker([40.759253,-73.989211], popup='Al Hirschfield Theatre').add_to(nyctmap2)\n",
    "\n",
    "nyctmap2"
   ]
  },
  {
   "cell_type": "markdown",
   "metadata": {},
   "source": [
    "##Hotels\n",
    "\n",
    "There are many more hotels in New York City, but they are much more dispersed than the theatres in the theatre district. On the other hand, there are far fewer hotels in Toronto, but they are more centrally located in the theatre district. "
   ]
  },
  {
   "cell_type": "code",
   "execution_count": null,
   "metadata": {},
   "outputs": [],
   "source": [
    "###notebook titled NYC Hotels"
   ]
  },
  {
   "cell_type": "code",
   "execution_count": null,
   "metadata": {},
   "outputs": [],
   "source": [
    "###notebook titled Toronto Hotels"
   ]
  },
  {
   "cell_type": "markdown",
   "metadata": {},
   "source": [
    "##Restaurants\n",
    "\n",
    "There are many more restaurants in New York City, and with more variety.  "
   ]
  },
  {
   "cell_type": "code",
   "execution_count": null,
   "metadata": {},
   "outputs": [],
   "source": [
    "###notebook titled NYC Restaurants"
   ]
  },
  {
   "cell_type": "code",
   "execution_count": null,
   "metadata": {},
   "outputs": [],
   "source": [
    "###notebook titled Toronto Restaurants"
   ]
  },
  {
   "cell_type": "markdown",
   "metadata": {},
   "source": [
    "#Discussion\n",
    "By comparing the theatre districts in New York and Toronto, we see that both cities have similiar numbers of theatres. Toronto has a few more venues than new York, making competition for space less impactful. A production would likely be able to move from New York to Toronto, though moving in the direction would be more competitive. \n",
    "\n",
    "However, the amenities in New York City are vastly superior. There are more hotels and restaurants in New York City. While the hotels are more dispersed, the comprehensive public transit system makes up for the spread. Further, the multitude of restaurants is enticing. \n",
    "\n",
    "Toronto may have more hotels and restaurants centrally located, but overall, they do not have the amenities needed to attract the same number of tourists as New York City. "
   ]
  },
  {
   "cell_type": "markdown",
   "metadata": {},
   "source": [
    "#Conclusion\n",
    "\n",
    "It is possible to move a theatre production between New York and Toronto, but Toronto is unlikely to attract the same number of tourists given their lack of amenities."
   ]
  }
 ],
 "metadata": {
  "kernelspec": {
   "display_name": "Python",
   "language": "python",
   "name": "conda-env-python-py"
  },
  "language_info": {
   "codemirror_mode": {
    "name": "ipython",
    "version": 3
   },
   "file_extension": ".py",
   "mimetype": "text/x-python",
   "name": "python",
   "nbconvert_exporter": "python",
   "pygments_lexer": "ipython3",
   "version": "3.6.10"
  }
 },
 "nbformat": 4,
 "nbformat_minor": 4
}
